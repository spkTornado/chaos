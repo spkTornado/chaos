{
 "cells": [
  {
   "cell_type": "code",
   "execution_count": 35,
   "id": "bf16dea2-964a-4dab-9264-fba59131715d",
   "metadata": {},
   "outputs": [
    {
     "data": {
      "text/plain": [
       "\"Description: Accept any transcript and generate 'A/G' and 'G/A'\\nmutation VCF. Usefull to explore the ADAR targets.\\n\""
      ]
     },
     "execution_count": 35,
     "metadata": {},
     "output_type": "execute_result"
    }
   ],
   "source": [
    "'''Description: Accept any transcript and generate 'A/G' and 'G/A'\n",
    "mutation VCF. Usefull to explore the ADAR targets.\n",
    "'''"
   ]
  },
  {
   "cell_type": "code",
   "execution_count": 36,
   "id": "1119bcf9-b055-4b36-81fa-90c1375f3340",
   "metadata": {},
   "outputs": [],
   "source": [
    "import os\n",
    "import sys\n",
    "import gget\n",
    "import pandas as pd\n",
    "import numpy as np\n",
    "from datetime import datetime, timezone, timedelta"
   ]
  },
  {
   "cell_type": "code",
   "execution_count": 37,
   "id": "2045ad90-c9ac-4f86-99e9-adb35ad8c666",
   "metadata": {},
   "outputs": [
    {
     "name": "stdout",
     "output_type": "stream",
     "text": [
      "Date: 12/01/2022, time: 10:42\n"
     ]
    }
   ],
   "source": [
    "def getTimeStamp():\n",
    "    '''\n",
    "    Return a timestap as: MM/DD/YY, HH:MM\n",
    "    '''\n",
    "    timezone_offset = -8.0  # Pacific Standard Time (UTC−08:00)\n",
    "    tzinfo = timezone(timedelta(hours=timezone_offset))\n",
    "    return datetime.now(tzinfo).strftime(\"Date: %m/%d/%Y, time: %H:%M\")\n",
    "\n",
    "print(getTimeStamp())"
   ]
  },
  {
   "cell_type": "code",
   "execution_count": null,
   "id": "574f8094-7ef0-450f-83fc-f3b8cf3e8e67",
   "metadata": {},
   "outputs": [],
   "source": []
  },
  {
   "cell_type": "code",
   "execution_count": 38,
   "id": "83b1a9f4-9997-4fac-b1d9-6947fdfbd2c0",
   "metadata": {},
   "outputs": [],
   "source": [
    "def getHumanReference(refGenome):\n",
    "    '''\n",
    "    Set the reference genome\n",
    "    '''\n",
    "    gget.ref(refGenome)"
   ]
  },
  {
   "cell_type": "code",
   "execution_count": 39,
   "id": "19dbdb74-cb17-4c38-9acf-69be0f26e721",
   "metadata": {},
   "outputs": [],
   "source": [
    "def ensembleID2seq(ensembleID):\n",
    "    '''\n",
    "    get the sequence from ensembleID\n",
    "    default human genome assemble is: GRCh38\n",
    "        Parameters:\n",
    "            'ensembleID'(str): Transcript ensemble id\n",
    "        Returns:\n",
    "            'assembly' (str): Assembly of the reference genome\n",
    "            'genomic_coordinates' (list): Chromosome, start, and 'end'\n",
    "            'sequence' (str): Transcript sequence\n",
    "    '''\n",
    "\n",
    "    # Set the reference\n",
    "    keyword2refName_dict = {'human': 'homo_sapiens'}\n",
    "    refGenome = 'human'\n",
    "    #getHumanReference(keyword2refName_dict[refGenome])\n",
    "    gget.ref('homo_sapiens')\n",
    "    \n",
    "    # Note: gget.* returns a PandasDataframe\n",
    "    seqMetaData, sequence = gget.seq([ensembleID])\n",
    "    assembly, chrom, start, end = seqMetaData.split(':')[1:-1]\n",
    "    \n",
    "    return assembly, [chrom, int(start), int(end)], sequence"
   ]
  },
  {
   "cell_type": "code",
   "execution_count": 40,
   "id": "0ab1a1f3-ee20-4ce4-b3a4-754edd95b315",
   "metadata": {},
   "outputs": [],
   "source": [
    "def hitByADAR(iBase):\n",
    "    '''\n",
    "    Check and mutate A/G\n",
    "        Paramter:\n",
    "            'iBase' (str): input nucleotide base\n",
    "        Returns:\n",
    "            '(str) or 'False': Either returns 'G' or 'False' based on the input\n",
    "    '''\n",
    "    fitEffect_dict = {'A':'G',\n",
    "                     'a': 'g'}\n",
    "    try:\n",
    "        return fitEffect_dict[iBase]\n",
    "    except KeyError:\n",
    "        return False"
   ]
  },
  {
   "cell_type": "code",
   "execution_count": 41,
   "id": "9bcd160a-d717-4f6b-adf3-a50190705bf7",
   "metadata": {},
   "outputs": [],
   "source": [
    "ensembleID = 'ENST00000226574.9'\n",
    "#print(gget.info([ensembleID]))"
   ]
  },
  {
   "cell_type": "code",
   "execution_count": 42,
   "id": "e67f245b-c88e-460f-9f44-d08995addf81",
   "metadata": {},
   "outputs": [
    {
     "name": "stderr",
     "output_type": "stream",
     "text": [
      "Thu Dec  1 10:42:32 2022 INFO Fetching reference information for homo_sapiens from Ensembl release: 108.\n"
     ]
    },
    {
     "name": "stdout",
     "output_type": "stream",
     "text": [
      "{'homo_sapiens': {'transcriptome_cdna': {'ftp': 'http://ftp.ensembl.org/pub/release-108/fasta/homo_sapiens/cdna/Homo_sapiens.GRCh38.cdna.all.fa.gz', 'ensembl_release': 108, 'release_date': '2022-10-04', 'release_time': '20:17', 'bytes': '74M'}, 'genome_dna': {'ftp': 'http://ftp.ensembl.org/pub/release-108/fasta/homo_sapiens/dna/Homo_sapiens.GRCh38.dna.primary_assembly.fa.gz', 'ensembl_release': 108, 'release_date': '2022-10-04', 'release_time': '18:37', 'bytes': '840M'}, 'annotation_gtf': {'ftp': 'http://ftp.ensembl.org/pub/release-108/gtf/homo_sapiens/Homo_sapiens.GRCh38.108.gtf.gz', 'ensembl_release': 108, 'release_date': '2022-10-04', 'release_time': '21:10', 'bytes': '52M'}, 'coding_seq_cds': {'ftp': 'http://ftp.ensembl.org/pub/release-108/fasta/homo_sapiens/cds/Homo_sapiens.GRCh38.cds.all.fa.gz', 'ensembl_release': 108, 'release_date': '2022-10-04', 'release_time': '20:18', 'bytes': '21M'}, 'non-coding_seq_ncRNA': {'ftp': 'http://ftp.ensembl.org/pub/release-108/fasta/homo_sapiens/ncrna/Homo_sapiens.GRCh38.ncrna.fa.gz', 'ensembl_release': 108, 'release_date': '2022-10-04', 'release_time': '21:05', 'bytes': '18M'}, 'protein_translation_pep': {'ftp': 'http://ftp.ensembl.org/pub/release-108/fasta/homo_sapiens/pep/Homo_sapiens.GRCh38.pep.all.fa.gz', 'ensembl_release': 108, 'release_date': '2022-10-04', 'release_time': '20:18', 'bytes': '14M'}}}\n"
     ]
    }
   ],
   "source": [
    "print(gget.ref('homo_sapiens'))"
   ]
  },
  {
   "cell_type": "code",
   "execution_count": null,
   "id": "98dababf-c341-457c-929f-9abbd4d79a6f",
   "metadata": {},
   "outputs": [
    {
     "name": "stderr",
     "output_type": "stream",
     "text": [
      "Thu Dec  1 10:42:39 2022 INFO Fetching reference information for homo_sapiens from Ensembl release: 108.\n",
      "Thu Dec  1 10:42:39 2022 INFO We noticed that you may have passed a version number with your Ensembl ID.\n",
      "Please note that gget seq will return information linked to the latest Ensembl ID version.\n"
     ]
    }
   ],
   "source": [
    "\n",
    "assembly, ensembleID_coordinates, sequence = ensembleID2seq(ensembleID)\n",
    "print(assembly)\n",
    "print(ensembleID_coordinates)\n"
   ]
  },
  {
   "cell_type": "code",
   "execution_count": null,
   "id": "0517a2a0-f9a7-4bf0-a36e-9c6e1cbff6ce",
   "metadata": {},
   "outputs": [],
   "source": [
    "#print(gget.seq([ensembleID]))"
   ]
  },
  {
   "cell_type": "code",
   "execution_count": null,
   "id": "974a19cf-2e23-4794-9614-be0efcdca0da",
   "metadata": {},
   "outputs": [],
   "source": [
    "# gget() outputs GRCh37 sequence, is it correct? let's verify using ensemble rest api.\n",
    "# let's try:\n",
    "# source: https://rest.ensembl.org/documentation/info/sequence_id\n",
    "import requests, sys\n",
    "\n",
    "ensembleID = 'ENST00000226574'\n",
    "server = \"https://rest.ensembl.org\"\n",
    "ext = \"/sequence/id/%s?\" %ensembleID\n",
    " \n",
    "r = requests.get(server+ext, headers={ \"Content-Type\" : \"text/plain\"})\n",
    " \n",
    "if not r.ok:\n",
    "  r.raise_for_status()\n",
    "  sys.exit()\n",
    " \n",
    " \n",
    "#print(r.text)"
   ]
  },
  {
   "cell_type": "code",
   "execution_count": null,
   "id": "8e6c2638-c981-4b0f-ae38-bfca0f32f023",
   "metadata": {},
   "outputs": [],
   "source": [
    "# We got the sequence, let's generate a vcf file\n",
    "\n",
    "vcfMetaData = '''##fileformat=VCFv4.3\n",
    "##fileDate=%s\n",
    "##source=transcript2vcf.py\n",
    "##reference=Homo sapiens\n",
    "##contig=<ID=-,length=%s,assembly=%s,md5=-,species=\"Homo sapiens\",taxonomy=x>\n",
    "##phasing=partial\n",
    "#ID: mut<num>-<num>,Type=String,Description=\"Informs about the mutation number and postion on the transcript.\"\n",
    "##INFO=<ID=DP,Number=1,Type=Integer,Description=\"Artificial Depth, will be the same for all; 500\">\n",
    "##INFO=<ID=AF,Number=A,Type=Float,Description=\"Artificial AF, will be the same for all; 1.0\">\n",
    "##FILTER=<ID=PASS,Artificial mutation data, ALl PASS>\n",
    "##FORMAT=<ID=GT,Number=1,Type=String,Description=\"Genotype\">\n",
    "##FORMAT=<ID=GQ,Number=1,Type=Integer,Description=\"Genotype Quality\">\n",
    "##FORMAT=<ID=DP,Number=1,Type=Integer,Description=\"Artificial Read Depth, will be the same for all; 500\">\n",
    "##FORMAT=<ID=HQ,Number=2,Type=Integer,Description=\"Artificial data quality, will be the same for all; 60\">''' %(getTimeStamp(),\n",
    "                                                                            len(sequence),\n",
    "                                                                           assembly,)\n",
    "\n"
   ]
  },
  {
   "cell_type": "code",
   "execution_count": null,
   "id": "11a7efb9-193b-406d-8a98-8b08c8d33946",
   "metadata": {},
   "outputs": [],
   "source": []
  },
  {
   "cell_type": "code",
   "execution_count": null,
   "id": "edc4b638-1775-4508-be12-9974821ab6d5",
   "metadata": {},
   "outputs": [],
   "source": [
    "vcfData_list = ['#CHROM\\tPOS\\tID\\tREF\\tALT\\tQUAL\\tFILTER\\tINFO\\tFORMAT\\t%s' %ensembleID]\n",
    "\n",
    "chrom, start, end = ensembleID_coordinates\n",
    "currentCoordinates = start - 1\n",
    "\n",
    "hitFound = 0\n",
    "hitPosOnTranscript = 0\n",
    "for eachPos in sequence:\n",
    "    \n",
    "    # counter's update\n",
    "    currentCoordinates += 1\n",
    "    hitPosOnTranscript += 1\n",
    "    \n",
    "    # check if ADAR will attack here\n",
    "    if hitByADAR(eachPos):\n",
    "        hitFound += 1\n",
    "        \n",
    "        # add it to the VCF file\n",
    "        hitID = 'mut%s-%s' %(hitFound,\n",
    "                                    hitPosOnTranscript)\n",
    "        vcfLine = \"%s\\t%s\\t%s\\tA\\tG\\t60\\tPASS\\tDP=500;AF=1.0\\tGT:GQ:DP:HQ\\t0|1:60:500:60,60\" %(chrom,\n",
    "                        currentCoordinates,\n",
    "                         hitID)\n",
    "        vcfData_list.append(vcfLine)"
   ]
  },
  {
   "cell_type": "code",
   "execution_count": null,
   "id": "a7544734-956e-47ef-83a5-97e01cb1cdf6",
   "metadata": {},
   "outputs": [],
   "source": [
    "# save the vcf file\n",
    "odir = '%s/data' %(os.getcwd())\n",
    "vcfFileName = \"%s/ADARhits_%s.vcf\" %(odir,\n",
    "                                    ensembleID.split(\".\")[0])\n",
    "wrtieVCF_FH = open(vcfFileName, 'w+')\n",
    "wrtieVCF_FH.write(\"%s\\n\" %vcfMetaData)\n",
    "wrtieVCF_FH.write(\"\\n\".join(vcfData_list))\n",
    "wrtieVCF_FH.close()"
   ]
  },
  {
   "cell_type": "code",
   "execution_count": null,
   "id": "0663bb7e-8df0-462c-9953-76517e654e93",
   "metadata": {},
   "outputs": [],
   "source": []
  }
 ],
 "metadata": {
  "kernelspec": {
   "display_name": "Python 3 (ipykernel)",
   "language": "python",
   "name": "python3"
  },
  "language_info": {
   "codemirror_mode": {
    "name": "ipython",
    "version": 3
   },
   "file_extension": ".py",
   "mimetype": "text/x-python",
   "name": "python",
   "nbconvert_exporter": "python",
   "pygments_lexer": "ipython3",
   "version": "3.9.13"
  }
 },
 "nbformat": 4,
 "nbformat_minor": 5
}
